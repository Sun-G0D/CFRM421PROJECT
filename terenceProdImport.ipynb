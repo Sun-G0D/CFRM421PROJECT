{
 "cells": [
  {
   "cell_type": "markdown",
   "metadata": {},
   "source": [
    "# CFRM 421 Final Proejct - Terence Chiu"
   ]
  },
  {
   "cell_type": "markdown",
   "metadata": {},
   "source": [
    "# Introduction"
   ]
  },
  {
   "cell_type": "markdown",
   "metadata": {},
   "source": [
    "What is the goal of your project?\n",
    "\n",
    "• What is the data that you are using? What is the original data source if known?\n",
    "\n",
    "• What does an instance in your data represent (e.g. a person, a transaction, etc.)? How many\n",
    "instances are there?\n",
    "\n",
    "• What is the target variable you are trying to predict?\n",
    "\n",
    "• What are the features used to predict it? Give a few examples of the features.\n",
    "\n",
    "• Provide any additional relevant information about your data if known (e.g. what is the time\n",
    "period, what place is it collected from, etc."
   ]
  },
  {
   "cell_type": "markdown",
   "metadata": {},
   "source": [
    "# Problem Setup"
   ]
  },
  {
   "cell_type": "markdown",
   "metadata": {},
   "source": []
  },
  {
   "cell_type": "code",
   "execution_count": 9,
   "metadata": {},
   "outputs": [],
   "source": [
    "import tensorflow as tf\n",
    "import numpy as np\n",
    "import pandas as pd\n",
    "from tensorflow.keras.models import Model\n",
    "from tensorflow.keras.layers import Dense, Input, Concatenate, Dropout\n",
    "from tensorflow.keras.optimizers import Adam\n",
    "from tensorflow.keras.callbacks import EarlyStopping\n",
    "from sklearn.preprocessing import StandardScaler\n",
    "from sklearn.metrics import mean_absolute_error\n",
    "import matplotlib.pyplot as plt\n"
   ]
  },
  {
   "cell_type": "markdown",
   "metadata": {},
   "source": [
    "# Algorithms"
   ]
  },
  {
   "cell_type": "markdown",
   "metadata": {},
   "source": [
    "DNN  \n",
    "Inputs:\n",
    "- Weekly Import\n",
    "- Weekly Production\n",
    "- Weekly Supply\n",
    "- Crude Oil Futures Price 1-2 minutes before release  \n",
    "\n",
    "Outputs (predict): \n",
    "- Futures Price 1-2 minutes after release\n",
    "\n",
    "Model Definition"
   ]
  },
  {
   "cell_type": "code",
   "execution_count": 33,
   "metadata": {},
   "outputs": [],
   "source": [
    "class DNN:\n",
    "    def __init__(self, learning_rate=0.001):\n",
    "        self.learning_rate = learning_rate\n",
    "        self.model = None\n",
    "\n",
    "    def build_model(self, input_shape=(7,)):\n",
    "        \"\"\"\n",
    "        Build the model architecture\n",
    "        input_shape: (7,) for 4 price features + 3 weekly features\n",
    "        \"\"\"\n",
    "        self.reset_session()\n",
    "\n",
    "        inputs = Input(shape=input_shape)\n",
    "        \n",
    "        price_features = inputs[:, :4]  # First 4 features are price features\n",
    "        weekly_features = inputs[:, 4:]  # Last 3 features are weekly data\n",
    "        \n",
    "        price_dense = Dense(16, activation='relu')(price_features)\n",
    "        price_dense = Dropout(0.2)(price_dense)\n",
    "        \n",
    "        weekly_dense = Dense(16, activation='relu')(weekly_features)\n",
    "        weekly_dense = Dropout(0.2)(weekly_dense)\n",
    "        \n",
    "        # Combine price and weekly features\n",
    "        combined = Concatenate()([price_dense, weekly_dense])\n",
    "        \n",
    "        # Output\n",
    "        dense1 = Dense(32, activation='relu')(combined)\n",
    "        dense1 = Dropout(0.2)(dense1)\n",
    "        outputs = Dense(1)(dense1)\n",
    "        \n",
    "        model = Model(inputs=inputs, outputs=outputs)\n",
    "        model.compile(optimizer=Adam(learning_rate=self.learning_rate),\n",
    "                     loss='mse',\n",
    "                     metrics=['mae'])\n",
    "        \n",
    "        return model\n",
    "\n",
    "    def reset_session(self, seed=42):\n",
    "        tf.random.set_seed(seed)\n",
    "        np.random.seed(seed)\n",
    "        tf.keras.backend.clear_session()\n",
    "\n",
    "    def train(self, X, y, validation_split=0.2, epochs=100, batch_size=32):\n",
    "        \"\"\"\n",
    "        Train the model\n",
    "        X: input features (4 price features + 3 weekly features)\n",
    "        y: target values (single value)\n",
    "        \"\"\"\n",
    "        if self.model is None:\n",
    "            self.model = self.build_model()\n",
    "        \n",
    "        # Early stopping callback\n",
    "        early_stopping = EarlyStopping(monitor='val_loss',\n",
    "                                     patience=10,\n",
    "                                     restore_best_weights=True)\n",
    "        \n",
    "        # Train the model\n",
    "        history = self.model.fit(X, y,\n",
    "                               validation_split=validation_split,\n",
    "                               epochs=epochs,\n",
    "                               batch_size=batch_size,\n",
    "                               callbacks=[early_stopping],\n",
    "                               verbose=1)\n",
    "        \n",
    "        return self.model, history\n",
    "\n",
    "    def predict(self, model, X):\n",
    "        \"\"\"\n",
    "        Make predictions\n",
    "        X: input features (4 price features + 3 weekly features)\n",
    "        \"\"\"\n",
    "        return model.predict(X)\n",
    "\n",
    "    def save(self, filepath):\n",
    "        \"\"\"\n",
    "        Save the model\n",
    "        \"\"\"\n",
    "        if self.model is not None:\n",
    "            self.model.save(filepath)\n",
    "        else:\n",
    "            raise ValueError(\"No model to save. Train the model first.\")\n",
    "\n",
    "    def prepare_data(self, price_features, weekly_production, weekly_import, weekly_supply):\n",
    "        \"\"\"\n",
    "        Prepare input data with proper feature ordering\n",
    "        price_features: array of shape (n_samples, 4) containing selected price features\n",
    "        weekly_production, weekly_import, weekly_supply: arrays of shape (n_samples,)\n",
    "        \"\"\"\n",
    "        weekly_features = np.column_stack([\n",
    "            weekly_production,\n",
    "            weekly_import,\n",
    "            weekly_supply\n",
    "        ])\n",
    "        X = np.column_stack([price_features, weekly_features])\n",
    "        return X "
   ]
  },
  {
   "cell_type": "markdown",
   "metadata": {},
   "source": [
    "Preparing the data"
   ]
  },
  {
   "cell_type": "code",
   "execution_count": 34,
   "metadata": {},
   "outputs": [],
   "source": [
    "def convert_to_number(value):\n",
    "    \"\"\"Convert string with M suffix to float\"\"\"\n",
    "    if isinstance(value, str):\n",
    "        return float(value.replace('M', '')) * 1000000\n",
    "    return value\n",
    "\n",
    "def load_and_prepare_data():\n",
    "    # Load data\n",
    "    prod_weekly = pd.read_csv('domestic_prod.csv', encoding='latin1')\n",
    "    net_import_weekly = pd.read_csv('net_import.csv', encoding='latin1')\n",
    "    supply_weekly = pd.read_csv('InvestingcomEIA.csv', encoding='latin1')\n",
    "    price_wide = pd.read_csv('price_window_valid_wide.csv', encoding='latin1') \n",
    "    \n",
    "    # Converting dates\n",
    "    prod_weekly['ï»¿Date'] = pd.to_datetime(prod_weekly['ï»¿Date'], format='%b %d, %Y')\n",
    "    net_import_weekly['ï»¿Date'] = pd.to_datetime(net_import_weekly['ï»¿Date'], format='%b %d, %Y')\n",
    "    supply_weekly['Release Date'] = pd.to_datetime(supply_weekly['Release Date'], format='%d-%b-%y')\n",
    "    price_wide['Release_Datetime'] = pd.to_datetime(price_wide['Release_Datetime']).dt.tz_localize(None)\n",
    "    \n",
    "    # Convert M to one million\n",
    "    supply_weekly['Actual'] = supply_weekly['Actual'].apply(convert_to_number)\n",
    "    supply_weekly['Forecast'] = supply_weekly['Forecast'].apply(convert_to_number)\n",
    "    supply_weekly['Previous'] = supply_weekly['Previous'].apply(convert_to_number)\n",
    "    \n",
    "    # Filter date range for weekly data and price_wide data\n",
    "    start_date = pd.to_datetime('2012-01-01')\n",
    "    end_date = pd.to_datetime('2025-01-01')\n",
    "    prod_weekly = prod_weekly[(prod_weekly['ï»¿Date'] >= start_date) & (prod_weekly['ï»¿Date'] < end_date)]\n",
    "    net_import_weekly = net_import_weekly[(net_import_weekly['ï»¿Date'] >= start_date) & (net_import_weekly['ï»¿Date'] < end_date)]\n",
    "    supply_weekly = supply_weekly[(supply_weekly['Release Date'] >= start_date) & (supply_weekly['Release Date'] < end_date)]\n",
    "    price_wide = price_wide[(price_wide['Release_Datetime'] >= start_date) & (price_wide['Release_Datetime'] < end_date)]\n",
    "    \n",
    "    return prod_weekly, net_import_weekly, supply_weekly, price_wide\n",
    "\n",
    "def prepare_supervised_data_wide(price_wide, weekly_production, weekly_import, weekly_supply, scaler, target_scaler, prod_weekly, net_import_weekly, supply_weekly):\n",
    "    X = []\n",
    "    y = []\n",
    "\n",
    "    # Convert weekly data date columns to datetime\n",
    "    prod_weekly['ï»¿Date'] = pd.to_datetime(prod_weekly['ï»¿Date'])\n",
    "    net_import_weekly['ï»¿Date'] = pd.to_datetime(net_import_weekly['ï»¿Date'])\n",
    "    supply_weekly['Release Date'] = pd.to_datetime(supply_weekly['Release Date'])\n",
    "    price_wide['Release_Datetime'] = pd.to_datetime(price_wide['Release_Datetime'])\n",
    "\n",
    "    for idx, row in price_wide.iterrows():\n",
    "        # Use 4 price features: 60, 40, 20, 0 minutes before release\n",
    "        price_features = [\n",
    "            row['Close_t-60'],\n",
    "            row['Close_t-40'],\n",
    "            row['Close_t-20'],\n",
    "            row['Close_t0']\n",
    "        ]\n",
    "        price_features_scaled = scaler.transform(np.array(price_features).reshape(-1, 1)).flatten()\n",
    "\n",
    "        # Target: price of future 2 minutes after release\n",
    "        target_price = row['Close_t2']\n",
    "        target_price_scaled = target_scaler.transform([[target_price]])[0, 0]\n",
    "\n",
    "        # Match weekly features by date\n",
    "        report_date = row['Release_Datetime'].date()\n",
    "        production_value = weekly_production[prod_weekly['ï»¿Date'].dt.date == report_date]\n",
    "        import_value = weekly_import[net_import_weekly['ï»¿Date'].dt.date == report_date]\n",
    "        supply_value = weekly_supply[supply_weekly['Release Date'].dt.date == report_date]\n",
    "        production_value = production_value[0] if len(production_value) > 0 else 0\n",
    "        import_value = import_value[0] if len(import_value) > 0 else 0\n",
    "        supply_value = supply_value[0] if len(supply_value) > 0 else 0\n",
    "\n",
    "        X.append(np.concatenate([price_features_scaled, [production_value, import_value, supply_value]]))\n",
    "        y.append(target_price_scaled)\n",
    "    return np.array(X), np.array(y)\n"
   ]
  },
  {
   "cell_type": "markdown",
   "metadata": {},
   "source": [
    "1. Load and prepare data"
   ]
  },
  {
   "cell_type": "code",
   "execution_count": 35,
   "metadata": {},
   "outputs": [],
   "source": [
    "prod_weekly, net_import_weekly, supply_weekly, price_wide = load_and_prepare_data()\n",
    "    \n",
    "# For features (X): all Close prices used for features\n",
    "all_feature_prices = []\n",
    "all_target_prices = []\n",
    "for idx, row in price_wide.iterrows():\n",
    "    all_feature_prices.extend([row['Close_t-60'], row['Close_t-40'], row['Close_t-20'], row['Close_t0']])\n",
    "    all_target_prices.append(row['Close_t2'])\n",
    "all_feature_prices = np.array(all_feature_prices)\n",
    "all_target_prices = np.array(all_target_prices)\n",
    "\n",
    "price_scaler = StandardScaler()\n",
    "\n",
    "target_scaler = StandardScaler()\n",
    "\n",
    "# Fit feature scaler on all price data used for features\n",
    "price_scaler.fit(all_feature_prices.reshape(-1, 1))\n",
    "# Fit target scaler on all target prices\n",
    "target_scaler.fit(all_target_prices.reshape(-1, 1))\n",
    "\n",
    "\n",
    "# Scale weekly features\n",
    "weekly_features = np.concatenate([\n",
    "    prod_weekly['US Weekly Production'].values,\n",
    "    net_import_weekly['Weekly Net Import'].values,\n",
    "    supply_weekly['Actual'].values\n",
    "]).reshape(-1, 1)\n",
    "\n",
    "#Scaler for weekly data\n",
    "weekly_scaler = StandardScaler()\n",
    "\n",
    "weekly_scaler.fit(weekly_features)\n",
    "\n",
    "weekly_production_scaled = weekly_scaler.transform(prod_weekly['US Weekly Production'].values.reshape(-1, 1)).flatten()\n",
    "weekly_import_scaled = weekly_scaler.transform(net_import_weekly['Weekly Net Import'].values.reshape(-1, 1)).flatten()\n",
    "weekly_supply_scaled = weekly_scaler.transform(supply_weekly['Actual'].values.reshape(-1, 1)).flatten()\n"
   ]
  },
  {
   "cell_type": "markdown",
   "metadata": {},
   "source": [
    "2. Preprocess data (call to prepare_supervised_data_wide)"
   ]
  },
  {
   "cell_type": "code",
   "execution_count": 36,
   "metadata": {},
   "outputs": [],
   "source": [
    "\n",
    "# Prepare supervised data\n",
    "X, y = prepare_supervised_data_wide(\n",
    "    price_wide, \n",
    "    weekly_production_scaled, \n",
    "    weekly_import_scaled,\n",
    "    weekly_supply_scaled,\n",
    "    price_scaler,\n",
    "    target_scaler,\n",
    "    prod_weekly,\n",
    "    net_import_weekly,\n",
    "    supply_weekly\n",
    ")\n"
   ]
  },
  {
   "cell_type": "markdown",
   "metadata": {},
   "source": [
    "3. Split + Train"
   ]
  },
  {
   "cell_type": "code",
   "execution_count": 37,
   "metadata": {},
   "outputs": [
    {
     "name": "stdout",
     "output_type": "stream",
     "text": [
      "Epoch 1/100\n",
      "\u001b[1m14/14\u001b[0m \u001b[32m━━━━━━━━━━━━━━━━━━━━\u001b[0m\u001b[37m\u001b[0m \u001b[1m0s\u001b[0m 6ms/step - loss: 1.1560 - mae: 0.9281 - val_loss: 0.5748 - val_mae: 0.5995\n",
      "Epoch 2/100\n",
      "\u001b[1m14/14\u001b[0m \u001b[32m━━━━━━━━━━━━━━━━━━━━\u001b[0m\u001b[37m\u001b[0m \u001b[1m0s\u001b[0m 2ms/step - loss: 0.7171 - mae: 0.6865 - val_loss: 0.2425 - val_mae: 0.3600\n",
      "Epoch 3/100\n",
      "\u001b[1m14/14\u001b[0m \u001b[32m━━━━━━━━━━━━━━━━━━━━\u001b[0m\u001b[37m\u001b[0m \u001b[1m0s\u001b[0m 2ms/step - loss: 0.4101 - mae: 0.5003 - val_loss: 0.0804 - val_mae: 0.1855\n",
      "Epoch 4/100\n",
      "\u001b[1m14/14\u001b[0m \u001b[32m━━━━━━━━━━━━━━━━━━━━\u001b[0m\u001b[37m\u001b[0m \u001b[1m0s\u001b[0m 2ms/step - loss: 0.2444 - mae: 0.3645 - val_loss: 0.0256 - val_mae: 0.1140\n",
      "Epoch 5/100\n",
      "\u001b[1m14/14\u001b[0m \u001b[32m━━━━━━━━━━━━━━━━━━━━\u001b[0m\u001b[37m\u001b[0m \u001b[1m0s\u001b[0m 2ms/step - loss: 0.2087 - mae: 0.3505 - val_loss: 0.0297 - val_mae: 0.1420\n",
      "Epoch 6/100\n",
      "\u001b[1m14/14\u001b[0m \u001b[32m━━━━━━━━━━━━━━━━━━━━\u001b[0m\u001b[37m\u001b[0m \u001b[1m0s\u001b[0m 2ms/step - loss: 0.1910 - mae: 0.3487 - val_loss: 0.0197 - val_mae: 0.1072\n",
      "Epoch 7/100\n",
      "\u001b[1m14/14\u001b[0m \u001b[32m━━━━━━━━━━━━━━━━━━━━\u001b[0m\u001b[37m\u001b[0m \u001b[1m0s\u001b[0m 2ms/step - loss: 0.1653 - mae: 0.3063 - val_loss: 0.0252 - val_mae: 0.1144\n",
      "Epoch 8/100\n",
      "\u001b[1m14/14\u001b[0m \u001b[32m━━━━━━━━━━━━━━━━━━━━\u001b[0m\u001b[37m\u001b[0m \u001b[1m0s\u001b[0m 2ms/step - loss: 0.1519 - mae: 0.2951 - val_loss: 0.0229 - val_mae: 0.1118\n",
      "Epoch 9/100\n",
      "\u001b[1m14/14\u001b[0m \u001b[32m━━━━━━━━━━━━━━━━━━━━\u001b[0m\u001b[37m\u001b[0m \u001b[1m0s\u001b[0m 2ms/step - loss: 0.1458 - mae: 0.2858 - val_loss: 0.0209 - val_mae: 0.1137\n",
      "Epoch 10/100\n",
      "\u001b[1m14/14\u001b[0m \u001b[32m━━━━━━━━━━━━━━━━━━━━\u001b[0m\u001b[37m\u001b[0m \u001b[1m0s\u001b[0m 2ms/step - loss: 0.1601 - mae: 0.3078 - val_loss: 0.0200 - val_mae: 0.1099\n",
      "Epoch 11/100\n",
      "\u001b[1m14/14\u001b[0m \u001b[32m━━━━━━━━━━━━━━━━━━━━\u001b[0m\u001b[37m\u001b[0m \u001b[1m0s\u001b[0m 2ms/step - loss: 0.1193 - mae: 0.2645 - val_loss: 0.0208 - val_mae: 0.1139\n",
      "Epoch 12/100\n",
      "\u001b[1m14/14\u001b[0m \u001b[32m━━━━━━━━━━━━━━━━━━━━\u001b[0m\u001b[37m\u001b[0m \u001b[1m0s\u001b[0m 2ms/step - loss: 0.1062 - mae: 0.2529 - val_loss: 0.0209 - val_mae: 0.1119\n",
      "Epoch 13/100\n",
      "\u001b[1m14/14\u001b[0m \u001b[32m━━━━━━━━━━━━━━━━━━━━\u001b[0m\u001b[37m\u001b[0m \u001b[1m0s\u001b[0m 2ms/step - loss: 0.0796 - mae: 0.2149 - val_loss: 0.0198 - val_mae: 0.1072\n",
      "Epoch 14/100\n",
      "\u001b[1m14/14\u001b[0m \u001b[32m━━━━━━━━━━━━━━━━━━━━\u001b[0m\u001b[37m\u001b[0m \u001b[1m0s\u001b[0m 2ms/step - loss: 0.1090 - mae: 0.2553 - val_loss: 0.0125 - val_mae: 0.0875\n",
      "Epoch 15/100\n",
      "\u001b[1m14/14\u001b[0m \u001b[32m━━━━━━━━━━━━━━━━━━━━\u001b[0m\u001b[37m\u001b[0m \u001b[1m0s\u001b[0m 2ms/step - loss: 0.1080 - mae: 0.2530 - val_loss: 0.0138 - val_mae: 0.0901\n",
      "Epoch 16/100\n",
      "\u001b[1m14/14\u001b[0m \u001b[32m━━━━━━━━━━━━━━━━━━━━\u001b[0m\u001b[37m\u001b[0m \u001b[1m0s\u001b[0m 2ms/step - loss: 0.1051 - mae: 0.2494 - val_loss: 0.0200 - val_mae: 0.1112\n",
      "Epoch 17/100\n",
      "\u001b[1m14/14\u001b[0m \u001b[32m━━━━━━━━━━━━━━━━━━━━\u001b[0m\u001b[37m\u001b[0m \u001b[1m0s\u001b[0m 2ms/step - loss: 0.1196 - mae: 0.2610 - val_loss: 0.0203 - val_mae: 0.1107\n",
      "Epoch 18/100\n",
      "\u001b[1m14/14\u001b[0m \u001b[32m━━━━━━━━━━━━━━━━━━━━\u001b[0m\u001b[37m\u001b[0m \u001b[1m0s\u001b[0m 2ms/step - loss: 0.1057 - mae: 0.2394 - val_loss: 0.0177 - val_mae: 0.1058\n",
      "Epoch 19/100\n",
      "\u001b[1m14/14\u001b[0m \u001b[32m━━━━━━━━━━━━━━━━━━━━\u001b[0m\u001b[37m\u001b[0m \u001b[1m0s\u001b[0m 2ms/step - loss: 0.0920 - mae: 0.2317 - val_loss: 0.0133 - val_mae: 0.0939\n",
      "Epoch 20/100\n",
      "\u001b[1m14/14\u001b[0m \u001b[32m━━━━━━━━━━━━━━━━━━━━\u001b[0m\u001b[37m\u001b[0m \u001b[1m0s\u001b[0m 2ms/step - loss: 0.1096 - mae: 0.2479 - val_loss: 0.0143 - val_mae: 0.0910\n",
      "Epoch 21/100\n",
      "\u001b[1m14/14\u001b[0m \u001b[32m━━━━━━━━━━━━━━━━━━━━\u001b[0m\u001b[37m\u001b[0m \u001b[1m0s\u001b[0m 2ms/step - loss: 0.0824 - mae: 0.2139 - val_loss: 0.0214 - val_mae: 0.1132\n",
      "Epoch 22/100\n",
      "\u001b[1m14/14\u001b[0m \u001b[32m━━━━━━━━━━━━━━━━━━━━\u001b[0m\u001b[37m\u001b[0m \u001b[1m0s\u001b[0m 2ms/step - loss: 0.0666 - mae: 0.1863 - val_loss: 0.0196 - val_mae: 0.1054\n",
      "Epoch 23/100\n",
      "\u001b[1m14/14\u001b[0m \u001b[32m━━━━━━━━━━━━━━━━━━━━\u001b[0m\u001b[37m\u001b[0m \u001b[1m0s\u001b[0m 2ms/step - loss: 0.0771 - mae: 0.2044 - val_loss: 0.0121 - val_mae: 0.0846\n",
      "Epoch 24/100\n",
      "\u001b[1m14/14\u001b[0m \u001b[32m━━━━━━━━━━━━━━━━━━━━\u001b[0m\u001b[37m\u001b[0m \u001b[1m0s\u001b[0m 2ms/step - loss: 0.0824 - mae: 0.2136 - val_loss: 0.0165 - val_mae: 0.1011\n",
      "Epoch 25/100\n",
      "\u001b[1m14/14\u001b[0m \u001b[32m━━━━━━━━━━━━━━━━━━━━\u001b[0m\u001b[37m\u001b[0m \u001b[1m0s\u001b[0m 4ms/step - loss: 0.0711 - mae: 0.2009 - val_loss: 0.0214 - val_mae: 0.1148\n",
      "Epoch 26/100\n",
      "\u001b[1m14/14\u001b[0m \u001b[32m━━━━━━━━━━━━━━━━━━━━\u001b[0m\u001b[37m\u001b[0m \u001b[1m0s\u001b[0m 2ms/step - loss: 0.0680 - mae: 0.1929 - val_loss: 0.0174 - val_mae: 0.1032\n",
      "Epoch 27/100\n",
      "\u001b[1m14/14\u001b[0m \u001b[32m━━━━━━━━━━━━━━━━━━━━\u001b[0m\u001b[37m\u001b[0m \u001b[1m0s\u001b[0m 2ms/step - loss: 0.0775 - mae: 0.2048 - val_loss: 0.0128 - val_mae: 0.0915\n",
      "Epoch 28/100\n",
      "\u001b[1m14/14\u001b[0m \u001b[32m━━━━━━━━━━━━━━━━━━━━\u001b[0m\u001b[37m\u001b[0m \u001b[1m0s\u001b[0m 2ms/step - loss: 0.0837 - mae: 0.2153 - val_loss: 0.0208 - val_mae: 0.1135\n",
      "Epoch 29/100\n",
      "\u001b[1m14/14\u001b[0m \u001b[32m━━━━━━━━━━━━━━━━━━━━\u001b[0m\u001b[37m\u001b[0m \u001b[1m0s\u001b[0m 2ms/step - loss: 0.0871 - mae: 0.2126 - val_loss: 0.0160 - val_mae: 0.1004\n",
      "Epoch 30/100\n",
      "\u001b[1m14/14\u001b[0m \u001b[32m━━━━━━━━━━━━━━━━━━━━\u001b[0m\u001b[37m\u001b[0m \u001b[1m0s\u001b[0m 2ms/step - loss: 0.0634 - mae: 0.1910 - val_loss: 0.0142 - val_mae: 0.0949\n",
      "Epoch 31/100\n",
      "\u001b[1m14/14\u001b[0m \u001b[32m━━━━━━━━━━━━━━━━━━━━\u001b[0m\u001b[37m\u001b[0m \u001b[1m0s\u001b[0m 2ms/step - loss: 0.0645 - mae: 0.1912 - val_loss: 0.0185 - val_mae: 0.1071\n",
      "Epoch 32/100\n",
      "\u001b[1m14/14\u001b[0m \u001b[32m━━━━━━━━━━━━━━━━━━━━\u001b[0m\u001b[37m\u001b[0m \u001b[1m0s\u001b[0m 2ms/step - loss: 0.0583 - mae: 0.1819 - val_loss: 0.0188 - val_mae: 0.1093\n",
      "Epoch 33/100\n",
      "\u001b[1m14/14\u001b[0m \u001b[32m━━━━━━━━━━━━━━━━━━━━\u001b[0m\u001b[37m\u001b[0m \u001b[1m0s\u001b[0m 2ms/step - loss: 0.0736 - mae: 0.2030 - val_loss: 0.0115 - val_mae: 0.0860\n",
      "Epoch 34/100\n",
      "\u001b[1m14/14\u001b[0m \u001b[32m━━━━━━━━━━━━━━━━━━━━\u001b[0m\u001b[37m\u001b[0m \u001b[1m0s\u001b[0m 2ms/step - loss: 0.0695 - mae: 0.1914 - val_loss: 0.0268 - val_mae: 0.1289\n",
      "Epoch 35/100\n",
      "\u001b[1m14/14\u001b[0m \u001b[32m━━━━━━━━━━━━━━━━━━━━\u001b[0m\u001b[37m\u001b[0m \u001b[1m0s\u001b[0m 2ms/step - loss: 0.0780 - mae: 0.2134 - val_loss: 0.0140 - val_mae: 0.0921\n",
      "Epoch 36/100\n",
      "\u001b[1m14/14\u001b[0m \u001b[32m━━━━━━━━━━━━━━━━━━━━\u001b[0m\u001b[37m\u001b[0m \u001b[1m0s\u001b[0m 2ms/step - loss: 0.0659 - mae: 0.1951 - val_loss: 0.0118 - val_mae: 0.0872\n",
      "Epoch 37/100\n",
      "\u001b[1m14/14\u001b[0m \u001b[32m━━━━━━━━━━━━━━━━━━━━\u001b[0m\u001b[37m\u001b[0m \u001b[1m0s\u001b[0m 2ms/step - loss: 0.0771 - mae: 0.2091 - val_loss: 0.0322 - val_mae: 0.1368\n",
      "Epoch 38/100\n",
      "\u001b[1m14/14\u001b[0m \u001b[32m━━━━━━━━━━━━━━━━━━━━\u001b[0m\u001b[37m\u001b[0m \u001b[1m0s\u001b[0m 2ms/step - loss: 0.0673 - mae: 0.1886 - val_loss: 0.0098 - val_mae: 0.0790\n",
      "Epoch 39/100\n",
      "\u001b[1m14/14\u001b[0m \u001b[32m━━━━━━━━━━━━━━━━━━━━\u001b[0m\u001b[37m\u001b[0m \u001b[1m0s\u001b[0m 2ms/step - loss: 0.0575 - mae: 0.1763 - val_loss: 0.0145 - val_mae: 0.0941\n",
      "Epoch 40/100\n",
      "\u001b[1m14/14\u001b[0m \u001b[32m━━━━━━━━━━━━━━━━━━━━\u001b[0m\u001b[37m\u001b[0m \u001b[1m0s\u001b[0m 2ms/step - loss: 0.0655 - mae: 0.1976 - val_loss: 0.0193 - val_mae: 0.1069\n",
      "Epoch 41/100\n",
      "\u001b[1m14/14\u001b[0m \u001b[32m━━━━━━━━━━━━━━━━━━━━\u001b[0m\u001b[37m\u001b[0m \u001b[1m0s\u001b[0m 2ms/step - loss: 0.0578 - mae: 0.1764 - val_loss: 0.0120 - val_mae: 0.0855\n",
      "Epoch 42/100\n",
      "\u001b[1m14/14\u001b[0m \u001b[32m━━━━━━━━━━━━━━━━━━━━\u001b[0m\u001b[37m\u001b[0m \u001b[1m0s\u001b[0m 2ms/step - loss: 0.0570 - mae: 0.1776 - val_loss: 0.0125 - val_mae: 0.0896\n",
      "Epoch 43/100\n",
      "\u001b[1m14/14\u001b[0m \u001b[32m━━━━━━━━━━━━━━━━━━━━\u001b[0m\u001b[37m\u001b[0m \u001b[1m0s\u001b[0m 2ms/step - loss: 0.0598 - mae: 0.1821 - val_loss: 0.0228 - val_mae: 0.1170\n",
      "Epoch 44/100\n",
      "\u001b[1m14/14\u001b[0m \u001b[32m━━━━━━━━━━━━━━━━━━━━\u001b[0m\u001b[37m\u001b[0m \u001b[1m0s\u001b[0m 2ms/step - loss: 0.0579 - mae: 0.1778 - val_loss: 0.0220 - val_mae: 0.1121\n",
      "Epoch 45/100\n",
      "\u001b[1m14/14\u001b[0m \u001b[32m━━━━━━━━━━━━━━━━━━━━\u001b[0m\u001b[37m\u001b[0m \u001b[1m0s\u001b[0m 2ms/step - loss: 0.0561 - mae: 0.1819 - val_loss: 0.0168 - val_mae: 0.1019\n",
      "Epoch 46/100\n",
      "\u001b[1m14/14\u001b[0m \u001b[32m━━━━━━━━━━━━━━━━━━━━\u001b[0m\u001b[37m\u001b[0m \u001b[1m0s\u001b[0m 2ms/step - loss: 0.0524 - mae: 0.1704 - val_loss: 0.0165 - val_mae: 0.1002\n",
      "Epoch 47/100\n",
      "\u001b[1m14/14\u001b[0m \u001b[32m━━━━━━━━━━━━━━━━━━━━\u001b[0m\u001b[37m\u001b[0m \u001b[1m0s\u001b[0m 2ms/step - loss: 0.0506 - mae: 0.1647 - val_loss: 0.0213 - val_mae: 0.1085\n",
      "Epoch 48/100\n",
      "\u001b[1m14/14\u001b[0m \u001b[32m━━━━━━━━━━━━━━━━━━━━\u001b[0m\u001b[37m\u001b[0m \u001b[1m0s\u001b[0m 2ms/step - loss: 0.0473 - mae: 0.1545 - val_loss: 0.0230 - val_mae: 0.1118\n",
      "Test Loss: 0.01\n",
      "Test MAE: 0.06\n"
     ]
    }
   ],
   "source": [
    "# Time-based 80/20 split\n",
    "n = len(X)\n",
    "split_idx = int(n * 0.8)\n",
    "X_train, X_test = X[:split_idx], X[split_idx:]\n",
    "y_train, y_test = y[:split_idx], y[split_idx:]\n",
    "\n",
    "# Initialize model\n",
    "model = DNN()\n",
    "\n",
    "# Train model\n",
    "trained_model, _ = model.train(X_train, y_train)\n",
    "\n",
    "# Evaluate model\n",
    "test_loss, test_mae = trained_model.evaluate(X_test, y_test, verbose=0)\n",
    "print(f\"Test Loss: {test_loss:.2f}\")\n",
    "print(f'Test MAE: {test_mae:.2f}')"
   ]
  },
  {
   "cell_type": "markdown",
   "metadata": {},
   "source": [
    "Define plot method to compare predicted and actual price at T+2 minutes after weekly report release"
   ]
  },
  {
   "cell_type": "code",
   "execution_count": 38,
   "metadata": {},
   "outputs": [],
   "source": [
    "def plot_predictions(predictions, actuals, scaler, save_path='terenceActualVSPredicted.png'):\n",
    "    \"\"\"\n",
    "    Plot predictions vs actual values (unscaled) and print MAE.\n",
    "    \"\"\"\n",
    "    # Inverse transform both prices since we are looking at raw price comparison between actual and predicted from DNN\n",
    "    predictions_unscaled = scaler.inverse_transform(predictions.reshape(-1, 1)).flatten()\n",
    "    actuals_unscaled = scaler.inverse_transform(actuals.reshape(-1, 1)).flatten()\n",
    "\n",
    "    # Calculate MAE on unscaled data\n",
    "    mae = mean_absolute_error(actuals_unscaled, predictions_unscaled)\n",
    "    print(f\"Test MAE (unscaled): {mae:.2f}\")\n",
    "\n",
    "    # Plot\n",
    "    plt.figure(figsize=(12, 6))\n",
    "    plt.plot(actuals_unscaled, label='Actual Price (2 min after release)')\n",
    "    plt.plot(predictions_unscaled, label='Predicted Price (2 min after release)')\n",
    "    plt.title('Actual vs Predicted Price 2 Minutes After Release')\n",
    "    plt.xlabel('Test Sample')\n",
    "    plt.ylabel('Price')\n",
    "    plt.legend()\n",
    "    plt.savefig(save_path)\n",
    "    plt.show()"
   ]
  },
  {
   "cell_type": "code",
   "execution_count": 39,
   "metadata": {},
   "outputs": [
    {
     "name": "stdout",
     "output_type": "stream",
     "text": [
      "\u001b[1m5/5\u001b[0m \u001b[32m━━━━━━━━━━━━━━━━━━━━\u001b[0m\u001b[37m\u001b[0m \u001b[1m0s\u001b[0m 5ms/step \n",
      "Test MAE (unscaled): 1.25\n"
     ]
    },
    {
     "data": {
      "image/png": "[encoded data removed]",
      "text/plain": [
       "<Figure size 1200x600 with 1 Axes>"
      ]
     },
     "metadata": {},
     "output_type": "display_data"
    }
   ],
   "source": [
    "# Predict on test set\n",
    "y_pred = trained_model.predict(X_test).flatten()\n",
    "# Plot and print MAE (unscaled)\n",
    "plot_predictions(y_pred, y_test, target_scaler)"
   ]
  },
  {
   "cell_type": "markdown",
   "metadata": {},
   "source": [
    "# Conclusions"
   ]
  },
  {
   "cell_type": "markdown",
   "metadata": {},
   "source": []
  },
  {
   "cell_type": "markdown",
   "metadata": {},
   "source": [
    "Test MAE (unscaled) between predicted and actual prices after two minutes of weekly report release is 1.25"
   ]
  },
  {
   "cell_type": "markdown",
   "metadata": {},
   "source": [
    "This model predicts the price given momentum of price the hour before report release, and THE report"
   ]
  }
 ],
 "metadata": {
  "kernelspec": {
   "display_name": "venv",
   "language": "python",
   "name": "python3"
  },
  "language_info": {
   "codemirror_mode": {
    "name": "ipython",
    "version": 3
   },
   "file_extension": ".py",
   "mimetype": "text/x-python",
   "name": "python",
   "nbconvert_exporter": "python",
   "pygments_lexer": "ipython3",
   "version": "3.12.9"
  }
 },
 "nbformat": 4,
 "nbformat_minor": 2
}
