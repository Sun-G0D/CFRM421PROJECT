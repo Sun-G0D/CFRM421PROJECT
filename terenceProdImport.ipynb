{
 "cells": [
  {
   "cell_type": "markdown",
   "metadata": {},
   "source": [
    "# CFRM 421 Final Proejct - Terence Chiu"
   ]
  },
  {
   "cell_type": "markdown",
   "metadata": {},
   "source": [
    "# Introduction"
   ]
  },
  {
   "cell_type": "markdown",
   "metadata": {},
   "source": [
    "What is the goal of your project?\n",
    "\n",
    "• What is the data that you are using? What is the original data source if known?\n",
    "\n",
    "• What does an instance in your data represent (e.g. a person, a transaction, etc.)? How many\n",
    "instances are there?\n",
    "\n",
    "• What is the target variable you are trying to predict?\n",
    "\n",
    "• What are the features used to predict it? Give a few examples of the features.\n",
    "\n",
    "• Provide any additional relevant information about your data if known (e.g. what is the time\n",
    "period, what place is it collected from, etc."
   ]
  },
  {
   "cell_type": "markdown",
   "metadata": {},
   "source": [
    "# Problem Setup"
   ]
  },
  {
   "cell_type": "code",
   "execution_count": 1,
   "metadata": {},
   "outputs": [],
   "source": [
    "import pandas as pd \n",
    "import numpy as np \n",
    "import tensorflow as tf"
   ]
  },
  {
   "cell_type": "markdown",
   "metadata": {},
   "source": []
  },
  {
   "cell_type": "code",
   "execution_count": 2,
   "metadata": {},
   "outputs": [],
   "source": [
    "prod_weekly = pd.read_csv('domestic_prod.csv', encoding = 'latin1')"
   ]
  },
  {
   "cell_type": "code",
   "execution_count": 3,
   "metadata": {},
   "outputs": [],
   "source": [
    "net_import_weekly = pd.read_csv('net_import.csv', encoding = 'latin1')"
   ]
  },
  {
   "cell_type": "code",
   "execution_count": 11,
   "metadata": {},
   "outputs": [],
   "source": [
    "price = pd.read_csv('min_WTI.csv', encoding = 'latin1')"
   ]
  },
  {
   "cell_type": "code",
   "execution_count": 5,
   "metadata": {},
   "outputs": [
    {
     "data": {
      "text/html": [
       "<div>\n",
       "<style scoped>\n",
       "    .dataframe tbody tr th:only-of-type {\n",
       "        vertical-align: middle;\n",
       "    }\n",
       "\n",
       "    .dataframe tbody tr th {\n",
       "        vertical-align: top;\n",
       "    }\n",
       "\n",
       "    .dataframe thead th {\n",
       "        text-align: right;\n",
       "    }\n",
       "</style>\n",
       "<table border=\"1\" class=\"dataframe\">\n",
       "  <thead>\n",
       "    <tr style=\"text-align: right;\">\n",
       "      <th></th>\n",
       "      <th>Release Date</th>\n",
       "      <th>Time</th>\n",
       "      <th>Actual</th>\n",
       "      <th>Forecast</th>\n",
       "      <th>Previous</th>\n",
       "    </tr>\n",
       "  </thead>\n",
       "  <tbody>\n",
       "    <tr>\n",
       "      <th>0</th>\n",
       "      <td>9-Mar-11</td>\n",
       "      <td>10:30</td>\n",
       "      <td>2.500M</td>\n",
       "      <td>1.100M</td>\n",
       "      <td>-0.400M</td>\n",
       "    </tr>\n",
       "    <tr>\n",
       "      <th>1</th>\n",
       "      <td>16-Mar-11</td>\n",
       "      <td>9:30</td>\n",
       "      <td>1.700M</td>\n",
       "      <td>1.800M</td>\n",
       "      <td>2.500M</td>\n",
       "    </tr>\n",
       "    <tr>\n",
       "      <th>2</th>\n",
       "      <td>23-Mar-11</td>\n",
       "      <td>9:30</td>\n",
       "      <td>2.100M</td>\n",
       "      <td>2.000M</td>\n",
       "      <td>1.700M</td>\n",
       "    </tr>\n",
       "    <tr>\n",
       "      <th>3</th>\n",
       "      <td>30-Mar-11</td>\n",
       "      <td>9:30</td>\n",
       "      <td>2.900M</td>\n",
       "      <td>2.000M</td>\n",
       "      <td>2.100M</td>\n",
       "    </tr>\n",
       "    <tr>\n",
       "      <th>4</th>\n",
       "      <td>6-Apr-11</td>\n",
       "      <td>9:30</td>\n",
       "      <td>2.000M</td>\n",
       "      <td>1.300M</td>\n",
       "      <td>2.900M</td>\n",
       "    </tr>\n",
       "  </tbody>\n",
       "</table>\n",
       "</div>"
      ],
      "text/plain": [
       "  Release Date   Time  Actual Forecast Previous\n",
       "0     9-Mar-11  10:30  2.500M   1.100M  -0.400M\n",
       "1    16-Mar-11   9:30  1.700M   1.800M   2.500M\n",
       "2    23-Mar-11   9:30  2.100M   2.000M   1.700M\n",
       "3    30-Mar-11   9:30  2.900M   2.000M   2.100M\n",
       "4     6-Apr-11   9:30  2.000M   1.300M   2.900M"
      ]
     },
     "execution_count": 5,
     "metadata": {},
     "output_type": "execute_result"
    }
   ],
   "source": [
    "supply_weekly = pd.read_csv('InvestingcomEIA.csv', encoding = 'latin1')\n",
    "supply_weekly = supply_weekly.iloc[::-1].reset_index(drop=True)\n",
    "supply_weekly.head()"
   ]
  },
  {
   "cell_type": "code",
   "execution_count": 12,
   "metadata": {},
   "outputs": [],
   "source": [
    "prod_weekly['ï»¿Date'] = pd.to_datetime(prod_weekly['ï»¿Date'], format='%b %d, %Y', errors='coerce')\n",
    "net_import_weekly['ï»¿Date'] = pd.to_datetime(net_import_weekly['ï»¿Date'], format='%b %d, %Y', errors='coerce')\n",
    "supply_weekly['Release Date'] = pd.to_datetime(supply_weekly['Release Date'], format='%d-%b-%y', errors='coerce')\n",
    "price['Date'] = pd.to_datetime(price['Date'], errors='coerce')\n",
    "    \n",
    "\n",
    "start_date = pd.to_datetime('2012-01-01')\n",
    "end_date = pd.to_datetime('2025-01-01')\n",
    "\n",
    "prod_weekly = prod_weekly[(prod_weekly['ï»¿Date'] >= start_date) & (prod_weekly['ï»¿Date'] < end_date)]\n",
    "net_import_weekly = net_import_weekly[(net_import_weekly['ï»¿Date'] >= start_date) & (net_import_weekly['ï»¿Date'] < end_date)]\n",
    "supply_weekly = supply_weekly[(supply_weekly['Release Date'] >= start_date) & (supply_weekly['Release Date'] < end_date)]\n",
    "\n",
    "# Filter price data for each report release\n",
    "filtered_prices = []\n",
    "for _, report in supply_weekly.iterrows():\n",
    "    report_time = report['Release Date']\n",
    "    # Get prices from -60 to +60 minutes around report release\n",
    "    price_window = price[\n",
    "        (price['Date'] >= report_time - pd.Timedelta(minutes=60)) &\n",
    "        (price['Date'] <= report_time + pd.Timedelta(minutes=60))\n",
    "    ]\n",
    "    if not price_window.empty:\n",
    "        filtered_prices.append(price_window)\n",
    "\n",
    "price = pd.concat(filtered_prices, ignore_index=True)"
   ]
  },
  {
   "cell_type": "code",
   "execution_count": 7,
   "metadata": {},
   "outputs": [
    {
     "data": {
      "text/html": [
       "<div>\n",
       "<style scoped>\n",
       "    .dataframe tbody tr th:only-of-type {\n",
       "        vertical-align: middle;\n",
       "    }\n",
       "\n",
       "    .dataframe tbody tr th {\n",
       "        vertical-align: top;\n",
       "    }\n",
       "\n",
       "    .dataframe thead th {\n",
       "        text-align: right;\n",
       "    }\n",
       "</style>\n",
       "<table border=\"1\" class=\"dataframe\">\n",
       "  <thead>\n",
       "    <tr style=\"text-align: right;\">\n",
       "      <th></th>\n",
       "      <th>Datetime_CST</th>\n",
       "      <th>Date</th>\n",
       "      <th>Time</th>\n",
       "      <th>Open</th>\n",
       "      <th>High</th>\n",
       "      <th>Low</th>\n",
       "      <th>Close</th>\n",
       "      <th>Volume</th>\n",
       "      <th>Datetime</th>\n",
       "    </tr>\n",
       "  </thead>\n",
       "  <tbody>\n",
       "    <tr>\n",
       "      <th>0</th>\n",
       "      <td>2012-05-01 00:00:00-05:00</td>\n",
       "      <td>2012-01-05</td>\n",
       "      <td>00:00:00</td>\n",
       "      <td>104.74</td>\n",
       "      <td>104.77</td>\n",
       "      <td>104.74</td>\n",
       "      <td>104.77</td>\n",
       "      <td>26</td>\n",
       "      <td>2012-05-01 00:00:00</td>\n",
       "    </tr>\n",
       "    <tr>\n",
       "      <th>1</th>\n",
       "      <td>2012-05-01 00:01:00-05:00</td>\n",
       "      <td>2012-01-05</td>\n",
       "      <td>00:01:00</td>\n",
       "      <td>104.77</td>\n",
       "      <td>104.77</td>\n",
       "      <td>104.76</td>\n",
       "      <td>104.76</td>\n",
       "      <td>6</td>\n",
       "      <td>2012-05-01 00:01:00</td>\n",
       "    </tr>\n",
       "    <tr>\n",
       "      <th>2</th>\n",
       "      <td>2012-05-01 00:02:00-05:00</td>\n",
       "      <td>2012-01-05</td>\n",
       "      <td>00:02:00</td>\n",
       "      <td>104.75</td>\n",
       "      <td>104.75</td>\n",
       "      <td>104.75</td>\n",
       "      <td>104.75</td>\n",
       "      <td>2</td>\n",
       "      <td>2012-05-01 00:02:00</td>\n",
       "    </tr>\n",
       "    <tr>\n",
       "      <th>3</th>\n",
       "      <td>2012-05-01 00:03:00-05:00</td>\n",
       "      <td>2012-01-05</td>\n",
       "      <td>00:03:00</td>\n",
       "      <td>104.73</td>\n",
       "      <td>104.73</td>\n",
       "      <td>104.73</td>\n",
       "      <td>104.73</td>\n",
       "      <td>1</td>\n",
       "      <td>2012-05-01 00:03:00</td>\n",
       "    </tr>\n",
       "    <tr>\n",
       "      <th>4</th>\n",
       "      <td>2012-05-01 00:04:00-05:00</td>\n",
       "      <td>2012-01-05</td>\n",
       "      <td>00:04:00</td>\n",
       "      <td>104.73</td>\n",
       "      <td>104.73</td>\n",
       "      <td>104.73</td>\n",
       "      <td>104.73</td>\n",
       "      <td>1</td>\n",
       "      <td>2012-05-01 00:04:00</td>\n",
       "    </tr>\n",
       "  </tbody>\n",
       "</table>\n",
       "</div>"
      ],
      "text/plain": [
       "                Datetime_CST       Date      Time    Open    High     Low  \\\n",
       "0  2012-05-01 00:00:00-05:00 2012-01-05  00:00:00  104.74  104.77  104.74   \n",
       "1  2012-05-01 00:01:00-05:00 2012-01-05  00:01:00  104.77  104.77  104.76   \n",
       "2  2012-05-01 00:02:00-05:00 2012-01-05  00:02:00  104.75  104.75  104.75   \n",
       "3  2012-05-01 00:03:00-05:00 2012-01-05  00:03:00  104.73  104.73  104.73   \n",
       "4  2012-05-01 00:04:00-05:00 2012-01-05  00:04:00  104.73  104.73  104.73   \n",
       "\n",
       "    Close  Volume             Datetime  \n",
       "0  104.77      26  2012-05-01 00:00:00  \n",
       "1  104.76       6  2012-05-01 00:01:00  \n",
       "2  104.75       2  2012-05-01 00:02:00  \n",
       "3  104.73       1  2012-05-01 00:03:00  \n",
       "4  104.73       1  2012-05-01 00:04:00  "
      ]
     },
     "execution_count": 7,
     "metadata": {},
     "output_type": "execute_result"
    }
   ],
   "source": [
    "price.head()"
   ]
  },
  {
   "cell_type": "code",
   "execution_count": 8,
   "metadata": {},
   "outputs": [
    {
     "data": {
      "text/html": [
       "<div>\n",
       "<style scoped>\n",
       "    .dataframe tbody tr th:only-of-type {\n",
       "        vertical-align: middle;\n",
       "    }\n",
       "\n",
       "    .dataframe tbody tr th {\n",
       "        vertical-align: top;\n",
       "    }\n",
       "\n",
       "    .dataframe thead th {\n",
       "        text-align: right;\n",
       "    }\n",
       "</style>\n",
       "<table border=\"1\" class=\"dataframe\">\n",
       "  <thead>\n",
       "    <tr style=\"text-align: right;\">\n",
       "      <th></th>\n",
       "      <th>ï»¿Date</th>\n",
       "      <th>US Weekly Production</th>\n",
       "    </tr>\n",
       "  </thead>\n",
       "  <tbody>\n",
       "    <tr>\n",
       "      <th>1510</th>\n",
       "      <td>2012-01-06</td>\n",
       "      <td>5844.0</td>\n",
       "    </tr>\n",
       "    <tr>\n",
       "      <th>1511</th>\n",
       "      <td>2012-01-13</td>\n",
       "      <td>5726.0</td>\n",
       "    </tr>\n",
       "    <tr>\n",
       "      <th>1512</th>\n",
       "      <td>2012-01-20</td>\n",
       "      <td>5722.0</td>\n",
       "    </tr>\n",
       "    <tr>\n",
       "      <th>1513</th>\n",
       "      <td>2012-01-27</td>\n",
       "      <td>5720.0</td>\n",
       "    </tr>\n",
       "    <tr>\n",
       "      <th>1514</th>\n",
       "      <td>2012-02-03</td>\n",
       "      <td>5763.0</td>\n",
       "    </tr>\n",
       "  </tbody>\n",
       "</table>\n",
       "</div>"
      ],
      "text/plain": [
       "        ï»¿Date  US Weekly Production\n",
       "1510 2012-01-06                5844.0\n",
       "1511 2012-01-13                5726.0\n",
       "1512 2012-01-20                5722.0\n",
       "1513 2012-01-27                5720.0\n",
       "1514 2012-02-03                5763.0"
      ]
     },
     "execution_count": 8,
     "metadata": {},
     "output_type": "execute_result"
    }
   ],
   "source": [
    "prod_weekly.head()"
   ]
  },
  {
   "cell_type": "code",
   "execution_count": 9,
   "metadata": {},
   "outputs": [
    {
     "data": {
      "text/html": [
       "<div>\n",
       "<style scoped>\n",
       "    .dataframe tbody tr th:only-of-type {\n",
       "        vertical-align: middle;\n",
       "    }\n",
       "\n",
       "    .dataframe tbody tr th {\n",
       "        vertical-align: top;\n",
       "    }\n",
       "\n",
       "    .dataframe thead th {\n",
       "        text-align: right;\n",
       "    }\n",
       "</style>\n",
       "<table border=\"1\" class=\"dataframe\">\n",
       "  <thead>\n",
       "    <tr style=\"text-align: right;\">\n",
       "      <th></th>\n",
       "      <th>ï»¿Date</th>\n",
       "      <th>Weekly Net Import</th>\n",
       "    </tr>\n",
       "  </thead>\n",
       "  <tbody>\n",
       "    <tr>\n",
       "      <th>530</th>\n",
       "      <td>2012-01-06</td>\n",
       "      <td>9871.0</td>\n",
       "    </tr>\n",
       "    <tr>\n",
       "      <th>531</th>\n",
       "      <td>2012-01-13</td>\n",
       "      <td>8228.0</td>\n",
       "    </tr>\n",
       "    <tr>\n",
       "      <th>532</th>\n",
       "      <td>2012-01-20</td>\n",
       "      <td>8816.0</td>\n",
       "    </tr>\n",
       "    <tr>\n",
       "      <th>533</th>\n",
       "      <td>2012-01-27</td>\n",
       "      <td>8843.0</td>\n",
       "    </tr>\n",
       "    <tr>\n",
       "      <th>534</th>\n",
       "      <td>2012-02-03</td>\n",
       "      <td>8376.0</td>\n",
       "    </tr>\n",
       "  </tbody>\n",
       "</table>\n",
       "</div>"
      ],
      "text/plain": [
       "       ï»¿Date  Weekly Net Import\n",
       "530 2012-01-06             9871.0\n",
       "531 2012-01-13             8228.0\n",
       "532 2012-01-20             8816.0\n",
       "533 2012-01-27             8843.0\n",
       "534 2012-02-03             8376.0"
      ]
     },
     "execution_count": 9,
     "metadata": {},
     "output_type": "execute_result"
    }
   ],
   "source": [
    "net_import_weekly.head()"
   ]
  },
  {
   "cell_type": "code",
   "execution_count": 10,
   "metadata": {},
   "outputs": [
    {
     "data": {
      "text/html": [
       "<div>\n",
       "<style scoped>\n",
       "    .dataframe tbody tr th:only-of-type {\n",
       "        vertical-align: middle;\n",
       "    }\n",
       "\n",
       "    .dataframe tbody tr th {\n",
       "        vertical-align: top;\n",
       "    }\n",
       "\n",
       "    .dataframe thead th {\n",
       "        text-align: right;\n",
       "    }\n",
       "</style>\n",
       "<table border=\"1\" class=\"dataframe\">\n",
       "  <thead>\n",
       "    <tr style=\"text-align: right;\">\n",
       "      <th></th>\n",
       "      <th>Release Date</th>\n",
       "      <th>Time</th>\n",
       "      <th>Actual</th>\n",
       "      <th>Forecast</th>\n",
       "      <th>Previous</th>\n",
       "    </tr>\n",
       "  </thead>\n",
       "  <tbody>\n",
       "    <tr>\n",
       "      <th>43</th>\n",
       "      <td>2012-01-05</td>\n",
       "      <td>11:00</td>\n",
       "      <td>2.200M</td>\n",
       "      <td>-1.200M</td>\n",
       "      <td>3.900M</td>\n",
       "    </tr>\n",
       "    <tr>\n",
       "      <th>44</th>\n",
       "      <td>2012-01-11</td>\n",
       "      <td>10:30</td>\n",
       "      <td>5.000M</td>\n",
       "      <td>1.000M</td>\n",
       "      <td>2.200M</td>\n",
       "    </tr>\n",
       "    <tr>\n",
       "      <th>45</th>\n",
       "      <td>2012-01-19</td>\n",
       "      <td>11:00</td>\n",
       "      <td>-3.400M</td>\n",
       "      <td>2.900M</td>\n",
       "      <td>5.000M</td>\n",
       "    </tr>\n",
       "    <tr>\n",
       "      <th>46</th>\n",
       "      <td>2012-01-25</td>\n",
       "      <td>10:30</td>\n",
       "      <td>3.600M</td>\n",
       "      <td>0.900M</td>\n",
       "      <td>-3.400M</td>\n",
       "    </tr>\n",
       "    <tr>\n",
       "      <th>47</th>\n",
       "      <td>2012-02-01</td>\n",
       "      <td>10:30</td>\n",
       "      <td>4.200M</td>\n",
       "      <td>3.000M</td>\n",
       "      <td>3.600M</td>\n",
       "    </tr>\n",
       "  </tbody>\n",
       "</table>\n",
       "</div>"
      ],
      "text/plain": [
       "   Release Date   Time   Actual Forecast Previous\n",
       "43   2012-01-05  11:00   2.200M  -1.200M   3.900M\n",
       "44   2012-01-11  10:30   5.000M   1.000M   2.200M\n",
       "45   2012-01-19  11:00  -3.400M   2.900M   5.000M\n",
       "46   2012-01-25  10:30   3.600M   0.900M  -3.400M\n",
       "47   2012-02-01  10:30   4.200M   3.000M   3.600M"
      ]
     },
     "execution_count": 10,
     "metadata": {},
     "output_type": "execute_result"
    }
   ],
   "source": [
    "supply_weekly.head()"
   ]
  },
  {
   "cell_type": "markdown",
   "metadata": {},
   "source": [
    "# Algorithms"
   ]
  },
  {
   "cell_type": "markdown",
   "metadata": {},
   "source": [
    "DNN  \n",
    "Inputs:\n",
    "- Weekly Import\n",
    "- Weekly Production\n",
    "- Weekly Supply\n",
    "- Crude Oil Futures Price 1-2 minutes before release  \n",
    "\n",
    "Outputs (predict): \n",
    "- Futures Price 1-2 minutes after release"
   ]
  },
  {
   "cell_type": "code",
   "execution_count": null,
   "metadata": {},
   "outputs": [],
   "source": []
  },
  {
   "cell_type": "markdown",
   "metadata": {},
   "source": [
    "# Conclusions"
   ]
  },
  {
   "cell_type": "markdown",
   "metadata": {},
   "source": []
  }
 ],
 "metadata": {
  "kernelspec": {
   "display_name": "venv",
   "language": "python",
   "name": "python3"
  },
  "language_info": {
   "codemirror_mode": {
    "name": "ipython",
    "version": 3
   },
   "file_extension": ".py",
   "mimetype": "text/x-python",
   "name": "python",
   "nbconvert_exporter": "python",
   "pygments_lexer": "ipython3",
   "version": "3.12.9"
  }
 },
 "nbformat": 4,
 "nbformat_minor": 2
}
