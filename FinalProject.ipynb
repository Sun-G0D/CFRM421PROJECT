{
 "cells": [
  {
   "cell_type": "code",
   "execution_count": null,
   "id": "fd787ab5",
   "metadata": {},
   "outputs": [],
   "source": []
  },
  {
   "cell_type": "markdown",
   "id": "2f72eaa3",
   "metadata": {},
   "source": [
    "# Introduction"
   ]
  },
  {
   "cell_type": "markdown",
   "id": "bdbb84ac",
   "metadata": {},
   "source": [
    "What is the goal of your project?\n",
    "\n",
    "• What is the data that you are using? What is the original data source if known?\n",
    "\n",
    "• What does an instance in your data represent (e.g. a person, a transaction, etc.)? How many\n",
    "instances are there?\n",
    "\n",
    "• What is the target variable you are trying to predict?\n",
    "\n",
    "• What are the features used to predict it? Give a few examples of the features.\n",
    "\n",
    "• Provide any additional relevant information about your data if known (e.g. what is the time\n",
    "period, what place is it collected from, etc."
   ]
  },
  {
   "cell_type": "markdown",
   "id": "39cdbd2b",
   "metadata": {},
   "source": [
    "Data will be from jan 1 2012 - jan 1 2025"
   ]
  },
  {
   "cell_type": "markdown",
   "id": "beb4170d",
   "metadata": {},
   "source": []
  }
 ],
 "metadata": {
  "language_info": {
   "name": "python"
  }
 },
 "nbformat": 4,
 "nbformat_minor": 5
}
